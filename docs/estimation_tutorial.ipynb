{
 "cells": [
  {
   "cell_type": "markdown",
   "metadata": {},
   "source": [
    "# Estimation Tutorial\n",
    "\n",
    "In this section, we dive into the topic of model estimation using **pydsge**. \n",
    "\n",
    "Let us, just for the sake of this tutorial, set up a temporary directory structure:"
   ]
  },
  {
   "cell_type": "code",
   "execution_count": 1,
   "metadata": {},
   "outputs": [],
   "source": [
    "# Just for the tutorial: Setting up example structure\n",
    "import tempfile\n",
    "import os\n",
    "import shutil # For clean-up of temporary directory\n",
    "from pathlib import Path # For Windows/Unix compatibility\n",
    "\n",
    "# Temporary output folder\n",
    "output_path = Path(tempfile.gettempdir(), 'output')\n",
    "if not os.path.isdir(output_path):\n",
    "    os.makedirs(output_path)"
   ]
  },
  {
   "cell_type": "markdown",
   "metadata": {},
   "source": [
    "## Parsing and loading the model\n",
    "\n",
    "Let us first load the relevant packages. Besides the DSGE class we already know from [*getting started*](https://pydsge.readthedocs.io/en/latest/getting_started.html), we also want to import the `emcee` package. This will allow us to later specify the desired updating algorithms for sampling from the posterior distribution - we explain this in more detail below."
   ]
  },
  {
   "cell_type": "code",
   "execution_count": 2,
   "metadata": {},
   "outputs": [],
   "source": [
    "import pandas as pd\n",
    "import numpy as np\n",
    "import emcee # For specifying updating moves\n",
    "\n",
    "from pydsge import DSGE, example"
   ]
  },
  {
   "cell_type": "markdown",
   "metadata": {},
   "source": [
    "In this tutorial, we continue to use the example provided in `pydsge`. Like before, we specify the file paths of the model and the data. Please feel free to check-out both files, but from the previous tutorial you might remember that we're dealing with a five equations New Keynesian model and US quarterly data from 1995 to 2018. "
   ]
  },
  {
   "cell_type": "code",
   "execution_count": 3,
   "metadata": {},
   "outputs": [],
   "source": [
    "yaml_file, data_file = example"
   ]
  },
  {
   "cell_type": "markdown",
   "metadata": {},
   "source": [
    "We again parse the model and load the data. Importantly we also specify a location where the output is stored. \n",
    "\n",
    "For this tutoral I assign a tempfile as the output path, but this is certainly not what you want. So better change that path. Note also that we can give the model estimation a name and also write a short description, which is very useful when working with several models or estimations."
   ]
  },
  {
   "cell_type": "code",
   "execution_count": 4,
   "metadata": {},
   "outputs": [],
   "source": [
    "# Parse the model\n",
    "mod = DSGE.read(yaml_file)  \n",
    "\n",
    "# Give it a name\n",
    "mod.name = 'rank_tutorial'\n",
    "mod.description = 'RANK, estimation tutorial'\n",
    "\n",
    "# Storage location for output. CHANGE THIS to some local path on your PC!\n",
    "mod.path = output_path\n",
    "\n",
    "# Load data\n",
    "df = pd.read_csv(data_file, parse_dates=['date'], index_col=['date'])\n",
    "df.index.freq = 'Q' # let pandas know that this is quartely data"
   ]
  },
  {
   "cell_type": "markdown",
   "metadata": {},
   "source": [
    "Remember that since the Great Recession, the Federal Funds Rate has been below the ZLB. That is why, like in [*getting started*](https://pydsge.readthedocs.io/en/latest/getting_started.html), we adjust the observed interest rate, so that the data is \"within reach\" of our model."
   ]
  },
  {
   "cell_type": "code",
   "execution_count": 5,
   "metadata": {},
   "outputs": [
    {
     "data": {
      "text/html": [
       "<div>\n",
       "<style scoped>\n",
       "    .dataframe tbody tr th:only-of-type {\n",
       "        vertical-align: middle;\n",
       "    }\n",
       "\n",
       "    .dataframe tbody tr th {\n",
       "        vertical-align: top;\n",
       "    }\n",
       "\n",
       "    .dataframe thead th {\n",
       "        text-align: right;\n",
       "    }\n",
       "</style>\n",
       "<table border=\"1\" class=\"dataframe\">\n",
       "  <thead>\n",
       "    <tr style=\"text-align: right;\">\n",
       "      <th></th>\n",
       "      <th>GDP</th>\n",
       "      <th>Infl</th>\n",
       "      <th>FFR</th>\n",
       "    </tr>\n",
       "    <tr>\n",
       "      <th>date</th>\n",
       "      <th></th>\n",
       "      <th></th>\n",
       "      <th></th>\n",
       "    </tr>\n",
       "  </thead>\n",
       "  <tbody>\n",
       "    <tr>\n",
       "      <th>1998-03-31</th>\n",
       "      <td>0.77834</td>\n",
       "      <td>0.14386</td>\n",
       "      <td>1.38</td>\n",
       "    </tr>\n",
       "    <tr>\n",
       "      <th>1998-06-30</th>\n",
       "      <td>0.69635</td>\n",
       "      <td>0.22873</td>\n",
       "      <td>1.38</td>\n",
       "    </tr>\n",
       "    <tr>\n",
       "      <th>1998-09-30</th>\n",
       "      <td>1.03077</td>\n",
       "      <td>0.36109</td>\n",
       "      <td>1.38</td>\n",
       "    </tr>\n",
       "    <tr>\n",
       "      <th>1998-12-31</th>\n",
       "      <td>1.37921</td>\n",
       "      <td>0.26145</td>\n",
       "      <td>1.22</td>\n",
       "    </tr>\n",
       "    <tr>\n",
       "      <th>1999-03-31</th>\n",
       "      <td>0.54307</td>\n",
       "      <td>0.37393</td>\n",
       "      <td>1.18</td>\n",
       "    </tr>\n",
       "    <tr>\n",
       "      <th>...</th>\n",
       "      <td>...</td>\n",
       "      <td>...</td>\n",
       "      <td>...</td>\n",
       "    </tr>\n",
       "    <tr>\n",
       "      <th>2017-03-31</th>\n",
       "      <td>0.41475</td>\n",
       "      <td>0.49969</td>\n",
       "      <td>0.18</td>\n",
       "    </tr>\n",
       "    <tr>\n",
       "      <th>2017-06-30</th>\n",
       "      <td>0.54594</td>\n",
       "      <td>0.25245</td>\n",
       "      <td>0.24</td>\n",
       "    </tr>\n",
       "    <tr>\n",
       "      <th>2017-09-30</th>\n",
       "      <td>0.54391</td>\n",
       "      <td>0.51972</td>\n",
       "      <td>0.29</td>\n",
       "    </tr>\n",
       "    <tr>\n",
       "      <th>2017-12-31</th>\n",
       "      <td>0.48458</td>\n",
       "      <td>0.57830</td>\n",
       "      <td>0.30</td>\n",
       "    </tr>\n",
       "    <tr>\n",
       "      <th>2018-03-31</th>\n",
       "      <td>0.15170</td>\n",
       "      <td>0.48097</td>\n",
       "      <td>0.36</td>\n",
       "    </tr>\n",
       "  </tbody>\n",
       "</table>\n",
       "<p>81 rows × 3 columns</p>\n",
       "</div>"
      ],
      "text/plain": [
       "                GDP     Infl   FFR\n",
       "date                              \n",
       "1998-03-31  0.77834  0.14386  1.38\n",
       "1998-06-30  0.69635  0.22873  1.38\n",
       "1998-09-30  1.03077  0.36109  1.38\n",
       "1998-12-31  1.37921  0.26145  1.22\n",
       "1999-03-31  0.54307  0.37393  1.18\n",
       "...             ...      ...   ...\n",
       "2017-03-31  0.41475  0.49969  0.18\n",
       "2017-06-30  0.54594  0.25245  0.24\n",
       "2017-09-30  0.54391  0.51972  0.29\n",
       "2017-12-31  0.48458  0.57830  0.30\n",
       "2018-03-31  0.15170  0.48097  0.36\n",
       "\n",
       "[81 rows x 3 columns]"
      ]
     },
     "execution_count": 5,
     "metadata": {},
     "output_type": "execute_result"
    }
   ],
   "source": [
    "# adjust elb\n",
    "zlb = mod.get_par('elb_level')\n",
    "rate = df['FFR']\n",
    "df['FFR'] = np.maximum(rate,zlb)\n",
    "\n",
    "mod.load_data(df, start='1998Q1')"
   ]
  },
  {
   "cell_type": "markdown",
   "metadata": {},
   "source": [
    "## Preparing the estimation"
   ]
  },
  {
   "cell_type": "markdown",
   "metadata": {},
   "source": [
    "After importing the packages and loading the data, we still need to tell pydsge how to carry out the estimation of our model. The \"prep_estim\" method can be used to accomplish this. It can be called without any arguments and sets-up a non-linear model by default. However, not all defaults are always a good good choice, and to showcase some of this functionality, we decide to specify several arguments here.\n",
    "\n",
    "To perform the estimation, `pydsge` uses a Transposed-Ensemble Kalman Filter (TEnKF). For general information on its implementation, see the [EconSieve documentation](https://econsieve.readthedocs.io/en/latest/) , and for more details on running the filter in `pydsge` check-out the [*getting started tutorial*](https://pydsge.readthedocs.io/en/latest/getting_started.html). Again,  the default filter is non-linear, but we can opt for a linear one by setting the argument `linear` to `True`. To choose a custom number of ensemble members for the TEnKF, set `N` to a particular number (default is 300, for e.g. a medium scale model 400-500 is a good choice). We can also set a specific random seed with the argument `seed` (the default seed is `0`). To get additional information on the estimation process, we can set  `verbose` to `True`. Conveniently, this information includes an overview of the parameters’ distribution, their means and standard deviations. Finally, if we already specified the covariance matrix of the measurement errors or want to reuse a previous result, we can load it into the `prep_estim` method by setting `Load.R` to `True`. \n",
    "\n",
    "If you run into problems you can turn parallelization off by setting `debug=True`."
   ]
  },
  {
   "cell_type": "code",
   "execution_count": 6,
   "metadata": {},
   "outputs": [
    {
     "name": "stdout",
     "output_type": "stream",
     "text": [
      "[estimation:]   Model operational. 12 states, 3 observables, 3 shocks, 81 data points.\n",
      "Adding parameters to the prior distribution...\n",
      "   - theta as beta (0.5, 0.1). Init @ 0.7813, with bounds (0.2, 0.95)\n",
      "   - sigma as normal (1.5, 0.375). Init @ 1.2312, with bounds (0.25, 3)\n",
      "   - phi_pi as normal (1.5, 0.25). Init @ 1.7985, with bounds (1.0, 3)\n",
      "   - phi_y as normal (0.125, 0.05). Init @ 0.0893, with bounds (0.001, 0.5)\n",
      "   - rho_u as beta (0.5, 0.2). Init @ 0.7, with bounds (0.01, 0.9999)\n",
      "   - rho_r as beta (0.5, 0.2). Init @ 0.7, with bounds (0.01, 0.9999)\n",
      "   - rho_z as beta (0.5, 0.2). Init @ 0.7, with bounds (0.01, 0.9999)\n",
      "   - rho as beta (0.75, 0.1). Init @ 0.8, with bounds (0.5, 0.975)\n",
      "   - sig_u as inv_gamma_dynare (0.1, 2). Init @ 0.5, with bounds (0.025, 5)\n",
      "   - sig_r as inv_gamma_dynare (0.1, 2). Init @ 0.5, with bounds (0.01, 3)\n",
      "   - sig_z as inv_gamma_dynare (0.1, 2). Init @ 0.5, with bounds (0.01, 3)\n",
      "[estimation:]   11 priors detected. Adding parameters to the prior distribution.\n"
     ]
    }
   ],
   "source": [
    "mod.prep_estim(N=350, seed=0, verbose=True, use_prior_transform=True)"
   ]
  },
  {
   "cell_type": "markdown",
   "metadata": {},
   "source": [
    "You probably want to set `use_prior_transform` to `True`, as above. This activates the destinction between prior and sampling space for the [ADEMC sampler](https://gregorboehl.com/live/ademc_boehl.pdf), which reduces the number of neccessary MCMC draws *a lot*."
   ]
  },
  {
   "cell_type": "markdown",
   "metadata": {},
   "source": [
    "As in the filtering tutorial, we set the covariance of measurement errors to correspond to the variances of the data. Additionally, we adjust the measurement errors of the Federal Funds rate since it is perfectly observable."
   ]
  },
  {
   "cell_type": "code",
   "execution_count": 7,
   "metadata": {},
   "outputs": [],
   "source": [
    "mod.filter.R = mod.create_obs_cov(1e-1)\n",
    "ind = mod.observables.index('FFR')\n",
    "mod.filter.R[ind,ind] /= 1e1 "
   ]
  },
  {
   "cell_type": "markdown",
   "metadata": {},
   "source": [
    "## Running the estimation"
   ]
  },
  {
   "cell_type": "markdown",
   "metadata": {},
   "source": [
    "Lets turn to the actual estimation. For a variety of pretty good reasons, `pdygse` uses *Ensemble Markov Chain Monte Carlo* (Ensemble-MCMC) integration to sample from the posterior distribution. For further information on Ensemble-MCMC, please refer to the `emcee` [website](https://emcee.readthedocs.io/en/stable/) and the additional resources provided there. "
   ]
  },
  {
   "cell_type": "markdown",
   "metadata": {},
   "source": [
    "We first require an initial ensemble, which is provided by `tmcmc`. `tmcmc` is a very sophisticated function with many options, but right now, all we are interested in is to obtain a sample that represents the prior distribution:"
   ]
  },
  {
   "cell_type": "code",
   "execution_count": 8,
   "metadata": {},
   "outputs": [
    {
     "name": "stderr",
     "output_type": "stream",
     "text": [
      "100%|██████████| 40/40 [00:03<00:00, 12.16it/s]"
     ]
    },
    {
     "name": "stdout",
     "output_type": "stream",
     "text": [
      "(prior_sample:) Sampling done. Check fails for 2.44% of the prior.\n"
     ]
    },
    {
     "name": "stderr",
     "output_type": "stream",
     "text": [
      "\n"
     ]
    }
   ],
   "source": [
    "p0 = mod.prior_sampler(40, verbose=True) # rule of thumb: number_of_parameters times 4 "
   ]
  },
  {
   "cell_type": "markdown",
   "metadata": {},
   "source": [
    "The parameter draws are saved in the object `p0` as a numpy array in order to later pass them to our main sampling process."
   ]
  },
  {
   "cell_type": "code",
   "execution_count": 9,
   "metadata": {},
   "outputs": [
    {
     "name": "stdout",
     "output_type": "stream",
     "text": [
      "[save_meta:]    Metadata saved as '/tmp/output/Rank_tutorial_meta'\n"
     ]
    }
   ],
   "source": [
    "mod.save()"
   ]
  },
  {
   "cell_type": "markdown",
   "metadata": {},
   "source": [
    "`mod.save()` saved the meta data of our model in the directory which we specified earlier in `mod.path`. This information is stored as an `.npz` file so that it is avialable even in the event of a crash and can be loaded anytime using `numpy.load()`."
   ]
  },
  {
   "cell_type": "markdown",
   "metadata": {},
   "source": [
    "For posterior sampling using `mcmc` we have the option to set different \"moves\", i.e. coordinate updating algorithms for the walkers. As a wrapper for a lot of `emcee` functionality,  `mcmc` can work with many different \"moves\" - for a list and implementation details please consult the `emcee` documentation. For using them here, specify them as a list of tuples, containing the type of move and its \"weight\". If no move is specified, `StretchMove` is used. "
   ]
  },
  {
   "cell_type": "code",
   "execution_count": 10,
   "metadata": {
    "slideshow": {
     "slide_type": ""
    }
   },
   "outputs": [],
   "source": [
    "moves = [(emcee.moves.DEMove(), 0.8), \n",
    "         (emcee.moves.DESnookerMove(), 0.2),]"
   ]
  },
  {
   "cell_type": "markdown",
   "metadata": {},
   "source": [
    "We now use the initial states derived above to conduct our full Bayesian estimation using `mcmc`. Note that, instead of using the specified initial ensemble, `mcmc` can identify previous runs or estimations, or the initial values of the \"prior\" section in the `*.yaml` can be used. \n",
    "\n",
    "The default number of sampling steps is 3000, which is parallelized by default. With `tune` we can determine the size of the Markov Chain we wish to retain to represent the posterior, i.e. after burn-in. This is not to be confused this with the updating frequency, which only affects the number of summary statements `pydsge`reports during the estimation. "
   ]
  },
  {
   "cell_type": "markdown",
   "metadata": {},
   "source": [
    "With the option `lprob_seed` the user can choose how to set the random seed of the likelihood evaluation - here we use the seed specified in `prep_estim`. "
   ]
  },
  {
   "cell_type": "code",
   "execution_count": 11,
   "metadata": {},
   "outputs": [
    {
     "name": "stdout",
     "output_type": "stream",
     "text": [
      "[mcmc:]         HDF backend at /tmp/output/Rank_tutorial_sampler.h5 already exists. Deleting...\n"
     ]
    },
    {
     "name": "stderr",
     "output_type": "stream",
     "text": [
      "[ll/MAF:-80.0160360(4e+01)/3%]:  13%|█▎        | 51/400 [01:33<10:15,  1.76s/sample(s)]  "
     ]
    },
    {
     "name": "stdout",
     "output_type": "stream",
     "text": [
      "(mcmc:) Summary from last 50 of 50 iterations (RANK, estimation tutorial):\n",
      "            distribution  pst_mean  sd/df    mean       sd   mode  hpd_5  \\\n",
      "theta               beta     0.500  0.100   0.749    0.146  0.601  0.584   \n",
      "sigma             normal     1.500  0.375   1.861    0.971  2.153  0.696   \n",
      "phi_pi            normal     1.500  0.250   1.715    0.449  1.370  0.920   \n",
      "phi_y             normal     0.125  0.050   0.255    0.227  0.087 -0.069   \n",
      "rho_u               beta     0.500  0.200   0.737    0.096  0.606  0.593   \n",
      "rho_r               beta     0.500  0.200   0.511    0.156  0.588  0.233   \n",
      "rho_z               beta     0.500  0.200   0.465    0.259  0.680  0.006   \n",
      "rho                 beta     0.750  0.100   0.661    0.079  0.687  0.521   \n",
      "sig_u   inv_gamma_dynare     0.100  2.000  15.360  219.483  1.034  0.520   \n",
      "sig_r   inv_gamma_dynare     0.100  2.000   0.872    0.239  1.037  0.468   \n",
      "sig_z   inv_gamma_dynare     0.100  2.000   0.547    0.382  1.055  0.095   \n",
      "\n",
      "        hpd_95   error  \n",
      "theta    0.961   0.012  \n",
      "sigma    3.608   0.089  \n",
      "phi_pi   2.400   0.047  \n",
      "phi_y    0.620   0.020  \n",
      "rho_u    0.887   0.008  \n",
      "rho_r    0.774   0.015  \n",
      "rho_z    0.775   0.023  \n",
      "rho      0.764   0.007  \n",
      "sig_u    1.362  12.685  \n",
      "sig_r    1.192   0.017  \n",
      "sig_z    1.082   0.030  \n",
      "Mean acceptance fraction:        0.233\n",
      "Autocorrelation times are between 3.07 and 3.78.\n"
     ]
    },
    {
     "name": "stderr",
     "output_type": "stream",
     "text": [
      "[ll/MAF:-30.7655438(4e+01)/3%]:  24%|██▍       | 95/400 [02:52<08:58,  1.77s/sample(s)] "
     ]
    },
    {
     "name": "stdout",
     "output_type": "stream",
     "text": [
      "[preprocess:]   WARNING: at least one control indetermined\n"
     ]
    },
    {
     "name": "stderr",
     "output_type": "stream",
     "text": [
      "[ll/MAF:-22.6847277(3e+01)/7%]:  25%|██▌       | 101/400 [03:02<08:35,  1.72s/sample(s)] "
     ]
    },
    {
     "name": "stdout",
     "output_type": "stream",
     "text": [
      "(mcmc:) Summary from last 50 of 100 iterations (RANK, estimation tutorial):\n",
      "            distribution  pst_mean  sd/df   mean     sd   mode  hpd_5  hpd_95  \\\n",
      "theta               beta     0.500  0.100  0.880  0.144  0.956  0.707   0.986   \n",
      "sigma             normal     1.500  0.375  3.029  1.093  4.433  1.388   4.524   \n",
      "phi_pi            normal     1.500  0.250  1.740  0.637  0.488  0.622   2.632   \n",
      "phi_y             normal     0.125  0.050  0.297  0.212  0.713 -0.073   0.659   \n",
      "rho_u               beta     0.500  0.200  0.854  0.087  0.832  0.768   0.961   \n",
      "rho_r               beta     0.500  0.200  0.524  0.273  0.804  0.009   0.866   \n",
      "rho_z               beta     0.500  0.200  0.497  0.340  0.383  0.041   0.999   \n",
      "rho                 beta     0.750  0.100  0.669  0.131  0.705  0.508   0.912   \n",
      "sig_u   inv_gamma_dynare     0.100  2.000  0.646  0.325  0.962  0.187   1.119   \n",
      "sig_r   inv_gamma_dynare     0.100  2.000  0.398  0.217  0.561  0.126   0.694   \n",
      "sig_z   inv_gamma_dynare     0.100  2.000  0.256  0.329  0.082  0.038   0.489   \n",
      "\n",
      "        error  \n",
      "theta   0.019  \n",
      "sigma   0.122  \n",
      "phi_pi  0.077  \n",
      "phi_y   0.026  \n",
      "rho_u   0.011  \n",
      "rho_r   0.035  \n",
      "rho_z   0.041  \n",
      "rho     0.015  \n",
      "sig_u   0.037  \n",
      "sig_r   0.023  \n",
      "sig_z   0.044  \n",
      "Mean acceptance fraction:        0.166\n",
      "Autocorrelation times are between 4.99 and 7.72.\n"
     ]
    },
    {
     "name": "stderr",
     "output_type": "stream",
     "text": [
      "[ll/MAF:-4.5885797(3e+01)/18%]:  38%|███▊      | 151/400 [04:37<08:05,  1.95s/sample(s)] "
     ]
    },
    {
     "name": "stdout",
     "output_type": "stream",
     "text": [
      "(mcmc:) Summary from last 50 of 150 iterations (RANK, estimation tutorial):\n",
      "            distribution  pst_mean  sd/df   mean     sd   mode  hpd_5  hpd_95  \\\n",
      "theta               beta     0.500  0.100  0.908  0.108  0.929  0.736   0.990   \n",
      "sigma             normal     1.500  0.375  3.150  0.754  3.059  2.122   4.788   \n",
      "phi_pi            normal     1.500  0.250  1.536  0.744  2.254  0.296   2.507   \n",
      "phi_y             normal     0.125  0.050  0.208  0.142  0.189 -0.001   0.388   \n",
      "rho_u               beta     0.500  0.200  0.917  0.050  0.851  0.837   0.978   \n",
      "rho_r               beta     0.500  0.200  0.522  0.298  0.669  0.020   0.869   \n",
      "rho_z               beta     0.500  0.200  0.657  0.282  0.506  0.263   0.998   \n",
      "rho                 beta     0.750  0.100  0.776  0.124  0.721  0.599   0.948   \n",
      "sig_u   inv_gamma_dynare     0.100  2.000  0.388  0.261  0.594  0.137   0.649   \n",
      "sig_r   inv_gamma_dynare     0.100  2.000  0.187  0.103  0.302  0.069   0.302   \n",
      "sig_z   inv_gamma_dynare     0.100  2.000  0.145  0.151  0.130  0.040   0.275   \n",
      "\n",
      "        error  \n",
      "theta   0.015  \n",
      "sigma   0.090  \n",
      "phi_pi  0.095  \n",
      "phi_y   0.019  \n",
      "rho_u   0.006  \n",
      "rho_r   0.039  \n",
      "rho_z   0.036  \n",
      "rho     0.015  \n",
      "sig_u   0.031  \n",
      "sig_r   0.013  \n",
      "sig_z   0.020  \n",
      "Mean acceptance fraction:         0.14\n",
      "Autocorrelation times are between 7.38 and 11.73.\n"
     ]
    },
    {
     "name": "stderr",
     "output_type": "stream",
     "text": [
      "[ll/MAF:9.7899981(2e+01)/10%]:  50%|█████     | 201/400 [06:16<07:14,  2.18s/sample(s)] "
     ]
    },
    {
     "name": "stdout",
     "output_type": "stream",
     "text": [
      "(mcmc:) Summary from last 50 of 200 iterations (RANK, estimation tutorial):\n",
      "            distribution  pst_mean  sd/df   mean     sd   mode  hpd_5  hpd_95  \\\n",
      "theta               beta     0.500  0.100  0.914  0.098  0.789  0.761   0.992   \n",
      "sigma             normal     1.500  0.375  2.809  0.608  2.062  1.973   3.783   \n",
      "phi_pi            normal     1.500  0.250  1.433  0.838  1.863  0.287   2.614   \n",
      "phi_y             normal     0.125  0.050  0.173  0.110  0.211  0.044   0.309   \n",
      "rho_u               beta     0.500  0.200  0.943  0.033  0.966  0.906   0.981   \n",
      "rho_r               beta     0.500  0.200  0.614  0.266  0.144  0.099   0.929   \n",
      "rho_z               beta     0.500  0.200  0.650  0.285  0.985  0.320   0.998   \n",
      "rho                 beta     0.750  0.100  0.785  0.107  0.904  0.654   0.947   \n",
      "sig_u   inv_gamma_dynare     0.100  2.000  0.243  0.087  0.167  0.138   0.377   \n",
      "sig_r   inv_gamma_dynare     0.100  2.000  0.127  0.057  0.189  0.072   0.189   \n",
      "sig_z   inv_gamma_dynare     0.100  2.000  0.125  0.079  0.162  0.038   0.204   \n",
      "\n",
      "        error  \n",
      "theta   0.013  \n",
      "sigma   0.077  \n",
      "phi_pi  0.112  \n",
      "phi_y   0.015  \n",
      "rho_u   0.004  \n",
      "rho_r   0.036  \n",
      "rho_z   0.039  \n",
      "rho     0.014  \n",
      "sig_u   0.011  \n",
      "sig_r   0.008  \n",
      "sig_z   0.011  \n",
      "Mean acceptance fraction:        0.121\n",
      "Autocorrelation times are between 10.13 and 15.41.\n"
     ]
    },
    {
     "name": "stderr",
     "output_type": "stream",
     "text": [
      "[ll/MAF:9.7899981(2e+01)/0%]:  63%|██████▎   | 251/400 [07:59<05:29,  2.21s/sample(s)]  "
     ]
    },
    {
     "name": "stdout",
     "output_type": "stream",
     "text": [
      "(mcmc:) Summary from last 50 of 250 iterations (RANK, estimation tutorial):\n",
      "            distribution  pst_mean  sd/df   mean     sd   mode  hpd_5  hpd_95  \\\n",
      "theta               beta     0.500  0.100  0.920  0.089  0.863  0.766   0.995   \n",
      "sigma             normal     1.500  0.375  2.616  0.527  2.200  1.982   3.648   \n",
      "phi_pi            normal     1.500  0.250  1.415  0.781  2.479  0.508   2.675   \n",
      "phi_y             normal     0.125  0.050  0.173  0.101  0.122  0.056   0.279   \n",
      "rho_u               beta     0.500  0.200  0.946  0.028  0.961  0.916   0.973   \n",
      "rho_r               beta     0.500  0.200  0.647  0.243  0.370  0.068   0.912   \n",
      "rho_z               beta     0.500  0.200  0.639  0.273  0.991  0.327   0.998   \n",
      "rho                 beta     0.750  0.100  0.784  0.085  0.888  0.678   0.913   \n",
      "sig_u   inv_gamma_dynare     0.100  2.000  0.227  0.066  0.198  0.135   0.292   \n",
      "sig_r   inv_gamma_dynare     0.100  2.000  0.105  0.024  0.088  0.072   0.133   \n",
      "sig_z   inv_gamma_dynare     0.100  2.000  0.119  0.060  0.063  0.044   0.188   \n",
      "\n",
      "        error  \n",
      "theta   0.012  \n",
      "sigma   0.066  \n",
      "phi_pi  0.109  \n",
      "phi_y   0.014  \n",
      "rho_u   0.004  \n",
      "rho_r   0.034  \n",
      "rho_z   0.038  \n",
      "rho     0.011  \n",
      "sig_u   0.009  \n",
      "sig_r   0.003  \n",
      "sig_z   0.008  \n",
      "Mean acceptance fraction:        0.109\n",
      "Autocorrelation times are between 12.63 and 19.06.\n"
     ]
    },
    {
     "name": "stderr",
     "output_type": "stream",
     "text": [
      "[ll/MAF:10.3047024(1e+01)/5%]:  75%|███████▌  | 301/400 [09:42<03:36,  2.18s/sample(s)] "
     ]
    },
    {
     "name": "stdout",
     "output_type": "stream",
     "text": [
      "(mcmc:) Summary from last 50 of 300 iterations (RANK, estimation tutorial):\n",
      "            distribution  pst_mean  sd/df   mean     sd   mode  hpd_5  hpd_95  \\\n",
      "theta               beta     0.500  0.100  0.921  0.087  0.965  0.789   0.994   \n",
      "sigma             normal     1.500  0.375  2.481  0.433  2.061  1.810   3.181   \n",
      "phi_pi            normal     1.500  0.250  1.374  0.770  0.745  0.455   2.534   \n",
      "phi_y             normal     0.125  0.050  0.181  0.088  0.194  0.067   0.268   \n",
      "rho_u               beta     0.500  0.200  0.947  0.020  0.942  0.929   0.973   \n",
      "rho_r               beta     0.500  0.200  0.672  0.231  0.777  0.142   0.932   \n",
      "rho_z               beta     0.500  0.200  0.632  0.265  0.579  0.351   0.998   \n",
      "rho                 beta     0.750  0.100  0.775  0.080  0.759  0.674   0.892   \n",
      "sig_u   inv_gamma_dynare     0.100  2.000  0.215  0.052  0.202  0.147   0.278   \n",
      "sig_r   inv_gamma_dynare     0.100  2.000  0.097  0.015  0.088  0.080   0.125   \n",
      "sig_z   inv_gamma_dynare     0.100  2.000  0.118  0.057  0.098  0.064   0.160   \n",
      "\n",
      "        error  \n",
      "theta   0.012  \n",
      "sigma   0.056  \n",
      "phi_pi  0.107  \n",
      "phi_y   0.012  \n",
      "rho_u   0.002  \n",
      "rho_r   0.032  \n",
      "rho_z   0.037  \n",
      "rho     0.011  \n",
      "sig_u   0.006  \n",
      "sig_r   0.002  \n",
      "sig_z   0.008  \n",
      "Mean acceptance fraction:        0.102\n",
      "Autocorrelation times are between 14.48 and 23.11.\n"
     ]
    },
    {
     "name": "stderr",
     "output_type": "stream",
     "text": [
      "[ll/MAF:11.6914374(7e+00)/5%]:  88%|████████▊ | 351/400 [11:21<01:23,  1.71s/sample(s)] "
     ]
    },
    {
     "name": "stdout",
     "output_type": "stream",
     "text": [
      "(mcmc:) Summary from last 50 of 350 iterations (RANK, estimation tutorial):\n",
      "            distribution  pst_mean  sd/df   mean     sd   mode  hpd_5  hpd_95  \\\n",
      "theta               beta     0.500  0.100  0.919  0.087  0.986  0.783   0.986   \n",
      "sigma             normal     1.500  0.375  2.380  0.428  2.943  1.741   3.048   \n",
      "phi_pi            normal     1.500  0.250  1.290  0.782  0.950  0.390   2.545   \n",
      "phi_y             normal     0.125  0.050  0.199  0.074  0.157  0.070   0.280   \n",
      "rho_u               beta     0.500  0.200  0.945  0.014  0.956  0.927   0.968   \n",
      "rho_r               beta     0.500  0.200  0.715  0.225  0.677  0.490   0.996   \n",
      "rho_z               beta     0.500  0.200  0.623  0.266  0.503  0.345   0.999   \n",
      "rho                 beta     0.750  0.100  0.753  0.081  0.763  0.667   0.892   \n",
      "sig_u   inv_gamma_dynare     0.100  2.000  0.212  0.041  0.213  0.149   0.275   \n",
      "sig_r   inv_gamma_dynare     0.100  2.000  0.092  0.013  0.104  0.071   0.109   \n",
      "sig_z   inv_gamma_dynare     0.100  2.000  0.116  0.055  0.102  0.070   0.154   \n",
      "\n",
      "        error  \n",
      "theta   0.012  \n",
      "sigma   0.055  \n",
      "phi_pi  0.109  \n",
      "phi_y   0.010  \n",
      "rho_u   0.002  \n",
      "rho_r   0.031  \n",
      "rho_z   0.037  \n",
      "rho     0.011  \n",
      "sig_u   0.005  \n",
      "sig_r   0.002  \n",
      "sig_z   0.008  \n",
      "Mean acceptance fraction:        0.096\n",
      "Autocorrelation times are between 17.08 and 26.75.\n"
     ]
    },
    {
     "name": "stderr",
     "output_type": "stream",
     "text": [
      "[ll/MAF:16.3164701(4e+00)/18%]: 100%|██████████| 400/400 [13:00<00:00,  1.95s/sample(s)]"
     ]
    },
    {
     "name": "stdout",
     "output_type": "stream",
     "text": [
      "[save_meta:]    Metadata saved as '/tmp/output/Rank_tutorial_meta'\n"
     ]
    },
    {
     "name": "stderr",
     "output_type": "stream",
     "text": [
      "\n"
     ]
    }
   ],
   "source": [
    "mod.mcmc(p0,\n",
    "         moves=moves,\n",
    "         nsteps=400,\n",
    "         tune=100,\n",
    "         update_freq=50,\n",
    "         ) # this may take some time. Better run on a machine with MANY cores...\n",
    "mod.save() # be sure to save the internal state!"
   ]
  },
  {
   "cell_type": "markdown",
   "metadata": {},
   "source": [
    "Great. On my 8 core machine this just took 13 Minutes. \n",
    "\n",
    "So where are our estimates? Our (hopefully) converged MCMC samples are currently stored in the file named `rank_tutorial_sampler.h5` created by `mcmc` which is stored in the `output_path`. \n",
    "\n",
    "You can load and use this data using the methods introduced in the [*processing estimation results tutorial*](https://pydsge.readthedocs.io/en/latest/getting_started.html)."
   ]
  },
  {
   "cell_type": "code",
   "execution_count": 12,
   "metadata": {},
   "outputs": [],
   "source": [
    "# Just for the tutorial: Cleaning the temporary directory\n",
    "shutil.rmtree(output_path)"
   ]
  }
 ],
 "metadata": {
  "interpreter": {
   "hash": "d226595e2f076559e618d0a9d30d224ac27d056d5cb4864945e1f27051c61083"
  },
  "kernelspec": {
   "display_name": "Python 3 (ipykernel)",
   "language": "python",
   "name": "python3"
  },
  "language_info": {
   "codemirror_mode": {
    "name": "ipython",
    "version": 3
   },
   "file_extension": ".py",
   "mimetype": "text/x-python",
   "name": "python",
   "nbconvert_exporter": "python",
   "pygments_lexer": "ipython3",
   "version": "3.10.5"
  }
 },
 "nbformat": 4,
 "nbformat_minor": 2
}
